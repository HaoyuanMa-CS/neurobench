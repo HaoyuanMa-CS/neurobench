{
 "cells": [
  {
   "cell_type": "code",
   "execution_count": 3,
   "metadata": {},
   "outputs": [],
   "source": [
    "import torch\n",
    "\n",
    "# from speech2spikes import S2S\n",
    "\n",
    "import torchvision\n",
    "from torch.utils.data import DataLoader\n",
    "\n",
    "from torch_mate.data.utils import FewShot\n",
    "from torch_mate.utils import get_device\n",
    "\n",
    "from neurobench.data.datasets.MSWC import MSWC\n",
    "from neurobench.examples.few_shot_learning.utils import train_using_MAML\n",
    "from neurobench.models import M5\n",
    "from neurobench.utils import Dict2Class"
   ]
  },
  {
   "cell_type": "code",
   "execution_count": 2,
   "metadata": {},
   "outputs": [],
   "source": [
    "ROOT = \"//scratch/p306982/data/fscil/mswc/\""
   ]
  },
  {
   "cell_type": "code",
   "execution_count": 3,
   "metadata": {},
   "outputs": [],
   "source": [
    "cfg = {\n",
    "    \"criterion\": {\"name\": \"CrossEntropyLoss\"},\n",
    "    \"meta_learning\": {\n",
    "        \"fast_lr\": 0.4,\n",
    "        \"adaptation_steps\": 1,\n",
    "        \"test_adaptation_steps\": 1,\n",
    "        \"meta_batch_size\": 32,\n",
    "        \"num_iterations\": 30000,\n",
    "        \"name\": \"MAML\",\n",
    "        \"first_order\": False,\n",
    "        \"ways\": 5,\n",
    "        \"shots\": 1,\n",
    "        \"query_shots\": 100,\n",
    "    },\n",
    "    \"continual_learning\": {\n",
    "        \"max_classes_to_learn\": 200\n",
    "    },\n",
    "    \"model\": {\n",
    "        \"name\": \"M5\",\n",
    "        \"cfg\": {\n",
    "            \"stride\": 16,\n",
    "            \"n_channel\": 32\n",
    "        },\n",
    "    },\n",
    "    \"optimizer\": {\"name\": \"Adam\", \"cfg\": {\"lr\": 0.001, \"betas\": (0.9, 0.999)}},\n",
    "    \"seed\": 4223747124,\n",
    "    \"task\": {\n",
    "        \"name\": \"MWSC\",\n",
    "        \"cfg\": {\n",
    "            \"representation\": {\n",
    "                \"name\": \"MFCC\",\n",
    "                \"cfg\": {\n",
    "                    \"center\": True,\n",
    "                    \"hop_length\": 160,\n",
    "                    \"n_fft\": 400,\n",
    "                    \"n_mels\": 96,\n",
    "                    \"n_mfcc\": 48\n",
    "\n",
    "                }\n",
    "            }\n",
    "        }\n",
    "    },\n",
    "}\n",
    "\n",
    "cfg = Dict2Class(cfg)"
   ]
  },
  {
   "cell_type": "code",
   "execution_count": 4,
   "metadata": {},
   "outputs": [],
   "source": [
    "model = M5(n_input=cfg.task.cfg.representation.cfg.n_mfcc,\n",
    "           stride=cfg.model.cfg.stride,\n",
    "           n_channel=cfg.model.cfg.n_channel,\n",
    "           n_output=cfg.continual_learning.max_classes_to_learn)"
   ]
  },
  {
   "cell_type": "code",
   "execution_count": 11,
   "metadata": {},
   "outputs": [],
   "source": [
    "eval_dataset = MSWC(ROOT, subset='evaluation')"
   ]
  },
  {
   "cell_type": "code",
   "execution_count": 12,
   "metadata": {},
   "outputs": [],
   "source": [
    "fscil_set = FewShot(eval_dataset, 10, 5, 100, None, (100, 100), True, True, None, 200, torch.nn.Identity(), None)"
   ]
  },
  {
   "cell_type": "code",
   "execution_count": 13,
   "metadata": {},
   "outputs": [],
   "source": [
    "eval_data_loader = DataLoader(fscil_set, 1, num_workers=8)"
   ]
  },
  {
   "cell_type": "code",
   "execution_count": 14,
   "metadata": {},
   "outputs": [],
   "source": [
    "for session, (X, y) in enumerate(eval_data_loader):\n",
    "    print(\"Session: {}\".format(session))\n",
    "    print(X, y)"
   ]
  },
  {
   "cell_type": "code",
   "execution_count": null,
   "metadata": {},
   "outputs": [],
   "source": []
  }
 ],
 "metadata": {
  "kernelspec": {
   "display_name": "Python 3",
   "language": "python",
   "name": "python3"
  },
  "language_info": {
   "codemirror_mode": {
    "name": "ipython",
    "version": 3
   },
   "file_extension": ".py",
   "mimetype": "text/x-python",
   "name": "python",
   "nbconvert_exporter": "python",
   "pygments_lexer": "ipython3",
   "version": "3.9.16"
  },
  "orig_nbformat": 4
 },
 "nbformat": 4,
 "nbformat_minor": 2
}
