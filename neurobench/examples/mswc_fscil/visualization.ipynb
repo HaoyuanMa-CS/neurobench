{
 "cells": [
  {
   "cell_type": "code",
   "execution_count": 1,
   "metadata": {},
   "outputs": [],
   "source": [
    "import sys\n",
    "sys.path.append(\"/home3/p306982/Simulations/fscil/algorithms_benchmarks/\")\n",
    "import os\n",
    "\n",
    "import torch\n",
    "import torch.nn.functional as F\n",
    "import torch.nn as nn\n",
    "import numpy as np\n",
    "import copy\n",
    "from tqdm import tqdm\n",
    "\n",
    "from torch.utils.data import DataLoader, ConcatDataset\n",
    "import torchaudio.transforms as T\n",
    "\n",
    "# from torch_mate.data.utils import IncrementalFewShot\n",
    "\n",
    "from neurobench.datasets import MSWC\n",
    "from neurobench.datasets.MSWC_IncrementalLoader import IncrementalFewShot\n",
    "from neurobench.examples.mswc_fscil.M5 import M5\n",
    "from neurobench.models import TorchModel\n",
    "\n",
    "from neurobench.examples.model_data.sparchSNNs import SNN\n",
    "from neurobench.examples.model_data.sparchSNNs import RadLIFLayer\n",
    "\n",
    "from neurobench.benchmarks import Benchmark\n",
    "from neurobench.preprocessing import MFCCProcessor\n",
    "from neurobench.preprocessing import S2SProcessor\n",
    "\n",
    "from cl_utils import *\n",
    "\n",
    "import numpy as np\n",
    "import matplotlib.pyplot as plt\n",
    "import argparse"
   ]
  },
  {
   "cell_type": "code",
   "execution_count": 2,
   "metadata": {},
   "outputs": [],
   "source": [
    "ROOT = \"//scratch/p306982/data/fscil/FSCIL_subset/\" #\"data/MSWC/\"\n",
    "NUM_WORKERS = 8\n",
    "BATCH_SIZE = 256\n",
    "NUM_REPEATS = 1\n",
    "SPIKING = True\n",
    "PRE_TRAIN = False\n",
    "SOFT_DELTA = False\n",
    "S2S_THRESH = 1.0 #1.0"
   ]
  },
  {
   "cell_type": "code",
   "execution_count": 3,
   "metadata": {},
   "outputs": [],
   "source": [
    "device = torch.device(\"cuda\" if torch.cuda.is_available() else \"cpu\")\n",
    "if device == torch.device(\"cuda\"):\n",
    "    PIN_MEMORY = True\n",
    "else:\n",
    "    PIN_MEMORY = False\n",
    "\n",
    "# Define MFCC pre-processing \n",
    "n_fft = 512\n",
    "win_length = None\n",
    "hop_length = 240\n",
    "n_mels = 20\n",
    "n_mfcc = 20\n",
    "\n",
    "if SPIKING:\n",
    "    encode = S2SProcessor(device, transpose=False, soft_delta=SOFT_DELTA)\n",
    "    config_change = {\"sample_rate\": 48000,\n",
    "                     \"hop_length\": 240}\n",
    "    encode.configure(threshold=S2S_THRESH, **config_change)\n",
    "else:\n",
    "    encode = MFCCProcessor(\n",
    "        sample_rate=48000,\n",
    "        n_mfcc=n_mfcc,\n",
    "        melkwargs={\n",
    "            \"n_fft\": n_fft,\n",
    "            \"n_mels\": n_mels,\n",
    "            \"hop_length\": hop_length,\n",
    "            \"mel_scale\": \"htk\",\n",
    "            \"f_min\": 20,\n",
    "            \"f_max\": 4000,\n",
    "        },\n",
    "        device = device\n",
    "    )\n",
    "\n",
    "\n",
    "\n",
    "squeeze = lambda x: (x[0].squeeze(), x[1])\n",
    "out2pred = lambda x: torch.argmax(x, dim=-1)\n",
    "to_device = lambda x: (x[0].to(device), x[1].to(device))"
   ]
  },
  {
   "cell_type": "code",
   "execution_count": 4,
   "metadata": {},
   "outputs": [],
   "source": [
    "# PT_MODEL = \"/home3/p306982/Simulations/fscil/algorithms_benchmarks/neurobench/examples/mswc_fscil/model_data/SPmodel_shorttrain\"\n",
    "# PT_MODEL = \"//scratch/p306982/data/fscil/FSCIL_subset/SpikingModel_ep50_0.001_bs64_Nhidden1024_simple\"\n",
    "PT_MODEL = \"/home3/p306982/Simulations/fscil/algorithms_benchmarks/neurobench/examples/mswc_fscil/model_data/SPmodel_25_full\"\n"
   ]
  },
  {
   "cell_type": "code",
   "execution_count": 5,
   "metadata": {},
   "outputs": [],
   "source": [
    "if SPIKING:\n",
    "    model = torch.load(PT_MODEL, map_location=device)\n",
    "    model = TorchModel(model)\n",
    "    model.add_activation_module(RadLIFLayer)\n",
    "else:\n",
    "    model = M5(n_input=20, stride=2, n_channel=256, \n",
    "            n_output=200, input_kernel=4, pool_kernel=2, drop=True).to(device)\n",
    "    load_dict = torch.load(\"/home3/p306982/Simulations/fscil/algorithms_benchmarks/neurobench/examples/mswc_fscil/model_data/mswc_mfcc_cnn\", \n",
    "                        map_location=device).state_dict()\n",
    "    model.load_state_dict(load_dict)\n",
    "    model = TorchModel(model)"
   ]
  },
  {
   "cell_type": "code",
   "execution_count": 10,
   "metadata": {},
   "outputs": [],
   "source": [
    "V0_clone = model.net.snn[0].V.weight.clone()\n",
    "model.net.snn[0].V.weight.data = V0_clone.t()"
   ]
  },
  {
   "cell_type": "code",
   "execution_count": 11,
   "metadata": {},
   "outputs": [],
   "source": [
    "V1_clone = model.net.snn[1].V.weight.clone()\n",
    "model.net.snn[1].V.weight.data = V1_clone.t()"
   ]
  },
  {
   "cell_type": "code",
   "execution_count": 13,
   "metadata": {},
   "outputs": [],
   "source": [
    "all_evals = []\n",
    "all_query = []"
   ]
  },
  {
   "cell_type": "code",
   "execution_count": 6,
   "metadata": {},
   "outputs": [
    {
     "data": {
      "text/plain": [
       "SNN(\n",
       "  (snn): ModuleList(\n",
       "    (0): RadLIFLayer(\n",
       "      (W): Linear(in_features=20, out_features=1024, bias=False)\n",
       "      (V): Linear(in_features=1024, out_features=1024, bias=False)\n",
       "      (norm): BatchNorm1d(1024, eps=1e-05, momentum=0.05, affine=True, track_running_stats=True)\n",
       "      (drop): Dropout(p=0.1, inplace=False)\n",
       "    )\n",
       "    (1): RadLIFLayer(\n",
       "      (W): Linear(in_features=1024, out_features=1024, bias=False)\n",
       "      (V): Linear(in_features=1024, out_features=1024, bias=False)\n",
       "      (norm): BatchNorm1d(1024, eps=1e-05, momentum=0.05, affine=True, track_running_stats=True)\n",
       "      (drop): Dropout(p=0.1, inplace=False)\n",
       "    )\n",
       "    (2): ReadoutLayer(\n",
       "      (W): Linear(in_features=1024, out_features=200, bias=False)\n",
       "      (norm): BatchNorm1d(200, eps=1e-05, momentum=0.05, affine=True, track_running_stats=True)\n",
       "      (drop): Dropout(p=0.1, inplace=False)\n",
       "    )\n",
       "  )\n",
       ")"
      ]
     },
     "execution_count": 6,
     "metadata": {},
     "output_type": "execute_result"
    }
   ],
   "source": [
    "model.net"
   ]
  },
  {
   "cell_type": "code",
   "execution_count": 7,
   "metadata": {},
   "outputs": [],
   "source": [
    "eval_model = copy.deepcopy(model)\n",
    "\n",
    "eval_accs = []\n",
    "query_accs = []\n",
    "act_sparsity = []\n",
    "syn_ops_dense = []\n",
    "syn_ops_macs = []\n",
    "\n",
    "# Get base test set for evaluation\n",
    "base_test_set = MSWC(root=ROOT, subset=\"base\", procedure=\"testing\")\n",
    "test_loader = DataLoader(base_test_set, batch_size=256, num_workers=NUM_WORKERS, pin_memory=PIN_MEMORY)\n",
    "\n",
    "# Define an arbitrary resampling as an example of pre-processor to feed to the Benchmark object\n",
    "eval_model.net.eval()\n",
    "\n",
    "# Metrics\n",
    "static_metrics = [\"model_size\", \"connection_sparsity\"]\n",
    "data_metrics = [\"classification_accuracy\", \"activation_sparsity\", \"synaptic_operations\"]\n",
    "\n",
    "# Define benchmark object\n",
    "benchmark_all_test = Benchmark(eval_model, metric_list=[static_metrics, data_metrics], dataloader=test_loader, \n",
    "                    preprocessors=[to_device, encode, squeeze], postprocessors=[])\n",
    "\n",
    "benchmark_new_classes = Benchmark(eval_model, metric_list=[[],[\"classification_accuracy\"]], dataloader=test_loader,\n",
    "                    preprocessors=[to_device, encode, squeeze], postprocessors=[])\n",
    "\n",
    "# Define specific post-processing with masking on the base classes\n",
    "mask = torch.full((200,), float('inf')).to(device)\n",
    "mask[torch.arange(0,100, dtype=int)] = 0\n",
    "out_mask = lambda x: x - mask"
   ]
  },
  {
   "cell_type": "code",
   "execution_count": 25,
   "metadata": {},
   "outputs": [],
   "source": [
    "sample = next(iter(test_loader))\n",
    "\n",
    "data, target = encode(to_device(sample))\n",
    "\n",
    "spikes = data[50].detach().cpu().numpy()\n",
    "\n",
    "# Get the indices of positive and negative spikes\n",
    "positive_indices = np.where(spikes == 1)\n",
    "negative_indices = np.where(spikes == -1)"
   ]
  },
  {
   "cell_type": "code",
   "execution_count": 26,
   "metadata": {},
   "outputs": [
    {
     "data": {
      "text/plain": [
       "tensor(0.3574, device='cuda:0')"
      ]
     },
     "execution_count": 26,
     "metadata": {},
     "output_type": "execute_result"
    }
   ],
   "source": [
    "torch.mean(torch.abs(data))"
   ]
  },
  {
   "cell_type": "code",
   "execution_count": 27,
   "metadata": {},
   "outputs": [
    {
     "data": {
      "image/png": "[encoded data removed]",
      "text/plain": [
       "<Figure size 640x480 with 1 Axes>"
      ]
     },
     "metadata": {},
     "output_type": "display_data"
    },
    {
     "data": {
      "text/plain": [
       "<Figure size 6400x4800 with 0 Axes>"
      ]
     },
     "metadata": {},
     "output_type": "display_data"
    }
   ],
   "source": [
    "# Get the indices of positive and negative spikes for each channel\n",
    "positive_indices = np.where(spikes == 1)\n",
    "negative_indices = np.where(spikes == -1)\n",
    "\n",
    "# Plot positive spikes in blue and negative spikes in red for each channel\n",
    "for channel in range(spikes.shape[1]):\n",
    "    positive_channel_indices = positive_indices[0][positive_indices[1] == channel]\n",
    "    negative_channel_indices = negative_indices[0][negative_indices[1] == channel]\n",
    "    \n",
    "    plt.eventplot(positive_channel_indices, linelengths=0.8, colors='blue', label=f'Channel {channel + 1} Positive', lineoffsets=channel + 1, linewidths=1)\n",
    "    plt.eventplot(negative_channel_indices, linelengths=0.8, colors='red', label=f'Channel {channel + 1} Negative', lineoffsets=channel + 1, linewidths=1)\n",
    "\n",
    "# Customize the plot\n",
    "plt.title('Raster Plot of Positive and Negative Spikes for Each Channel')\n",
    "plt.xlabel('Time')\n",
    "plt.ylabel('Channel')\n",
    "# plt.legend()\n",
    "plt.yticks(np.arange(1, spikes.shape[1] + 1), [f'Channel {i + 1}' for i in range(spikes.shape[1])])\n",
    "plt.figure(dpi=1000)\n",
    "plt.show()\n"
   ]
  },
  {
   "cell_type": "code",
   "execution_count": 7,
   "metadata": {},
   "outputs": [],
   "source": [
    "base_train_set = MSWC(root=ROOT, subset=\"base\", procedure=\"training\")\n",
    "train_loader = DataLoader(base_train_set, batch_size=500, num_workers=NUM_WORKERS, pin_memory=PIN_MEMORY)"
   ]
  },
  {
   "cell_type": "code",
   "execution_count": 8,
   "metadata": {},
   "outputs": [],
   "source": [
    "import torch.nn as nn\n",
    "\n",
    "# protos = {}\n",
    "proto_out = nn.Linear(1024, 200, bias=True).to(device)\n",
    "proto_out.weight.data = eval_model.net.snn[-1].W.weight.data\n",
    "\n",
    "for data, target in train_loader:\n",
    "\n",
    "    data, target = encode((data.to(device), target.to(device)))\n",
    "    data = data.squeeze()\n",
    "    class_id = target[0]\n",
    "\n",
    "    features = eval_model.net.snn[0](data)\n",
    "    features = eval_model.net.snn[1](features)\n",
    "\n",
    "    mean = torch.sum(features, dim=[0,1])/500\n",
    "    proto_out.weight.data[class_id] = 2*mean\n",
    "    proto_out.bias.data[class_id] = -torch.matmul(mean, mean.t())/features.shape[1]\n",
    "\n",
    "\n",
    "    del data\n",
    "    del features\n",
    "    del mean\n",
    "\n",
    "\n",
    "eval_model.net.snn[-1].W = proto_out"
   ]
  },
  {
   "cell_type": "code",
   "execution_count": 8,
   "metadata": {},
   "outputs": [],
   "source": [
    "PROTOTYPES = True"
   ]
  },
  {
   "cell_type": "code",
   "execution_count": 12,
   "metadata": {},
   "outputs": [
    {
     "name": "stdout",
     "output_type": "stream",
     "text": [
      "Session: 0\n",
      "Running benchmark\n"
     ]
    },
    {
     "name": "stderr",
     "output_type": "stream",
     "text": [
      "100%|██████████| 40/40 [00:25<00:00,  1.60it/s]"
     ]
    },
    {
     "name": "stdout",
     "output_type": "stream",
     "text": [
      "Base results: {'model_size': 13553592, 'connection_sparsity': 0.0006, 'classification_accuracy': 0.011899999999999999, 'activation_sparsity': 0.8528586974793998, 'synaptic_operations': {'Effective_MACs': 0.0, 'Effective_ACs': 98928732.0815, 'Dense': 677572608.0}}\n",
      "The base accuracy is 1.19%\n"
     ]
    },
    {
     "name": "stderr",
     "output_type": "stream",
     "text": [
      "\n"
     ]
    }
   ],
   "source": [
    "print(f\"Session: 0\")\n",
    "if PROTOTYPES:\n",
    "    pre_train_results = benchmark_all_test.run(postprocessors=[out_mask, F.softmax, out2pred, torch.squeeze])\n",
    "else:\n",
    "    pre_train_results = benchmark_all_test.run(postprocessors=[out_mask, out2pred, torch.squeeze])\n",
    "print(\"Base results:\", pre_train_results)\n",
    "eval_accs.append(pre_train_results['classification_accuracy'])\n",
    "act_sparsity.append(pre_train_results['activation_sparsity'])\n",
    "syn_ops_dense.append(pre_train_results['synaptic_operations']['Dense'])\n",
    "syn_ops_macs.append(pre_train_results['synaptic_operations']['Effective_MACs'])\n",
    "print(f\"The base accuracy is {eval_accs[-1]*100}%\")"
   ]
  },
  {
   "cell_type": "code",
   "execution_count": 10,
   "metadata": {},
   "outputs": [],
   "source": [
    "NORMALIZE = False\n",
    "RESET = \"random\"\n",
    "EVAL_LR = 0.007\n",
    "EVAL_SHOTS = 5\n",
    "SAMPLED_STEPS = 0\n",
    "EVAL_EPOCHS = 1"
   ]
  },
  {
   "cell_type": "code",
   "execution_count": 11,
   "metadata": {},
   "outputs": [],
   "source": [
    "import random\n",
    "random.seed(10)\n",
    "np.random.seed(10)\n",
    "torch.manual_seed(10)\n",
    "\n",
    "few_shot_dataloader = IncrementalFewShot(n_way=10, k_shot=EVAL_SHOTS, \n",
    "                            root = ROOT,\n",
    "                            query_shots=100,\n",
    "                            support_query_split=(100,100),\n",
    "                            samples_per_class=200)\n",
    "\n",
    "# Saves shifted versions of \n",
    "eval_model.net.saved_weights = {}\n",
    "pre_train_class = range(100)\n",
    "if SPIKING:\n",
    "    consolidate_weights(eval_model.net, eval_model.net.snn[-1].W, pre_train_class, normalize=NORMALIZE)\n",
    "else:\n",
    "    consolidate_weights(eval_model.net, eval_model.net.output, pre_train_class, normalize=NORMALIZE)\n",
    "\n",
    "\n",
    "few_shot_optimizer = torch.optim.SGD(eval_model.net.parameters(), lr=EVAL_LR, momentum=0.9, weight_decay=0.0005)"
   ]
  },
  {
   "cell_type": "code",
   "execution_count": 12,
   "metadata": {},
   "outputs": [],
   "source": [
    "iter_loader = iter(few_shot_dataloader)"
   ]
  },
  {
   "cell_type": "code",
   "execution_count": 19,
   "metadata": {},
   "outputs": [],
   "source": [
    "support, query, query_classes = next(iter_loader)"
   ]
  },
  {
   "cell_type": "code",
   "execution_count": 15,
   "metadata": {},
   "outputs": [
    {
     "data": {
      "text/plain": [
       "[192, 190, 197, 199, 198, 191, 196, 195, 194, 193]"
      ]
     },
     "execution_count": 15,
     "metadata": {},
     "output_type": "execute_result"
    }
   ],
   "source": [
    "query_classes"
   ]
  },
  {
   "cell_type": "markdown",
   "metadata": {},
   "source": [
    "### ProtoNET"
   ]
  },
  {
   "cell_type": "code",
   "execution_count": 29,
   "metadata": {},
   "outputs": [
    {
     "ename": "RuntimeError",
     "evalue": "CUDA error: device-side assert triggered\nCUDA kernel errors might be asynchronously reported at some other API call, so the stacktrace below might be incorrect.\nFor debugging consider passing CUDA_LAUNCH_BLOCKING=1.\nCompile with `TORCH_USE_CUDA_DSA` to enable device-side assertions.\n",
     "output_type": "error",
     "traceback": [
      "\u001b[0;31m---------------------------------------------------------------------------\u001b[0m",
      "\u001b[0;31mRuntimeError\u001b[0m                              Traceback (most recent call last)",
      "\u001b[1;32m/home3/p306982/Simulations/fscil/algorithms_benchmarks/neurobench/examples/mswc_fscil/visualization.ipynb Cell 24\u001b[0m line \u001b[0;36m1\n\u001b[1;32m      <a href='vscode-notebook-cell://ssh-remote%2Ba100gpu3/home3/p306982/Simulations/fscil/algorithms_benchmarks/neurobench/examples/mswc_fscil/visualization.ipynb#X51sdnNjb2RlLXJlbW90ZQ%3D%3D?line=8'>9</a>\u001b[0m         data \u001b[39m=\u001b[39m torch\u001b[39m.\u001b[39mcat((data,X_shot), \u001b[39m0\u001b[39m)\n\u001b[1;32m     <a href='vscode-notebook-cell://ssh-remote%2Ba100gpu3/home3/p306982/Simulations/fscil/algorithms_benchmarks/neurobench/examples/mswc_fscil/visualization.ipynb#X51sdnNjb2RlLXJlbW90ZQ%3D%3D?line=9'>10</a>\u001b[0m         target \u001b[39m=\u001b[39m torch\u001b[39m.\u001b[39mcat((target,y_shot), \u001b[39m0\u001b[39m)\n\u001b[0;32m---> <a href='vscode-notebook-cell://ssh-remote%2Ba100gpu3/home3/p306982/Simulations/fscil/algorithms_benchmarks/neurobench/examples/mswc_fscil/visualization.ipynb#X51sdnNjb2RlLXJlbW90ZQ%3D%3D?line=11'>12</a>\u001b[0m data, target \u001b[39m=\u001b[39m encode((data\u001b[39m.\u001b[39;49mto(device), target\u001b[39m.\u001b[39mto(device)))\n\u001b[1;32m     <a href='vscode-notebook-cell://ssh-remote%2Ba100gpu3/home3/p306982/Simulations/fscil/algorithms_benchmarks/neurobench/examples/mswc_fscil/visualization.ipynb#X51sdnNjb2RlLXJlbW90ZQ%3D%3D?line=12'>13</a>\u001b[0m data \u001b[39m=\u001b[39m data\u001b[39m.\u001b[39msqueeze()\n\u001b[1;32m     <a href='vscode-notebook-cell://ssh-remote%2Ba100gpu3/home3/p306982/Simulations/fscil/algorithms_benchmarks/neurobench/examples/mswc_fscil/visualization.ipynb#X51sdnNjb2RlLXJlbW90ZQ%3D%3D?line=14'>15</a>\u001b[0m features \u001b[39m=\u001b[39m eval_model\u001b[39m.\u001b[39mnet\u001b[39m.\u001b[39msnn[\u001b[39m0\u001b[39m](data)\n",
      "\u001b[0;31mRuntimeError\u001b[0m: CUDA error: device-side assert triggered\nCUDA kernel errors might be asynchronously reported at some other API call, so the stacktrace below might be incorrect.\nFor debugging consider passing CUDA_LAUNCH_BLOCKING=1.\nCompile with `TORCH_USE_CUDA_DSA` to enable device-side assertions.\n"
     ]
    }
   ],
   "source": [
    "# set_consolidate_weights(eval_model.net, eval_model.net.snn[-1].W) \n",
    "\n",
    "data = None\n",
    "for X_shot, y_shot in support:\n",
    "    if data is None:\n",
    "        data = X_shot\n",
    "        target = y_shot\n",
    "    else:\n",
    "        data = torch.cat((data,X_shot), 0)\n",
    "        target = torch.cat((target,y_shot), 0)\n",
    "\n",
    "data, target = encode((data.to(device), target.to(device)))\n",
    "data = data.squeeze()\n",
    "\n",
    "features = eval_model.net.snn[0](data)\n",
    "features = eval_model.net.snn[1](features)\n",
    "features.shape"
   ]
  },
  {
   "cell_type": "code",
   "execution_count": 30,
   "metadata": {},
   "outputs": [
    {
     "data": {
      "text/plain": [
       "[109, 105, 106, 103, 102, 108, 107, 100, 101, 104]"
      ]
     },
     "execution_count": 30,
     "metadata": {},
     "output_type": "execute_result"
    }
   ],
   "source": [
    "query_classes[-10:]"
   ]
  },
  {
   "cell_type": "code",
   "execution_count": 28,
   "metadata": {},
   "outputs": [
    {
     "ename": "RuntimeError",
     "evalue": "CUDA error: device-side assert triggered\nCUDA kernel errors might be asynchronously reported at some other API call, so the stacktrace below might be incorrect.\nFor debugging consider passing CUDA_LAUNCH_BLOCKING=1.\nCompile with `TORCH_USE_CUDA_DSA` to enable device-side assertions.\n",
     "output_type": "error",
     "traceback": [
      "\u001b[0;31m---------------------------------------------------------------------------\u001b[0m",
      "\u001b[0;31mRuntimeError\u001b[0m                              Traceback (most recent call last)",
      "\u001b[1;32m/home3/p306982/Simulations/fscil/algorithms_benchmarks/neurobench/examples/mswc_fscil/visualization.ipynb Cell 26\u001b[0m line \u001b[0;36m9\n\u001b[1;32m      <a href='vscode-notebook-cell://ssh-remote%2Ba100gpu3/home3/p306982/Simulations/fscil/algorithms_benchmarks/neurobench/examples/mswc_fscil/visualization.ipynb#X56sdnNjb2RlLXJlbW90ZQ%3D%3D?line=6'>7</a>\u001b[0m \u001b[39mfor\u001b[39;00m index, class_id  \u001b[39min\u001b[39;00m \u001b[39menumerate\u001b[39m(query_classes):\n\u001b[1;32m      <a href='vscode-notebook-cell://ssh-remote%2Ba100gpu3/home3/p306982/Simulations/fscil/algorithms_benchmarks/neurobench/examples/mswc_fscil/visualization.ipynb#X56sdnNjb2RlLXJlbW90ZQ%3D%3D?line=7'>8</a>\u001b[0m     \u001b[39mif\u001b[39;00m class_id \u001b[39mnot\u001b[39;00m \u001b[39min\u001b[39;00m protos:\n\u001b[0;32m----> <a href='vscode-notebook-cell://ssh-remote%2Ba100gpu3/home3/p306982/Simulations/fscil/algorithms_benchmarks/neurobench/examples/mswc_fscil/visualization.ipynb#X56sdnNjb2RlLXJlbW90ZQ%3D%3D?line=8'>9</a>\u001b[0m         protos[class_id] \u001b[39m=\u001b[39m torch\u001b[39m.\u001b[39msum(features[[i\u001b[39m*\u001b[39;49m\u001b[39m10\u001b[39;49m\u001b[39m+\u001b[39;49mindex \u001b[39mfor\u001b[39;49;00m i \u001b[39min\u001b[39;49;00m \u001b[39mrange\u001b[39;49m(EVAL_SHOTS)]], dim\u001b[39m=\u001b[39m[\u001b[39m0\u001b[39m,\u001b[39m1\u001b[39m])\u001b[39m/\u001b[39mEVAL_SHOTS\n\u001b[1;32m     <a href='vscode-notebook-cell://ssh-remote%2Ba100gpu3/home3/p306982/Simulations/fscil/algorithms_benchmarks/neurobench/examples/mswc_fscil/visualization.ipynb#X56sdnNjb2RlLXJlbW90ZQ%3D%3D?line=9'>10</a>\u001b[0m         eval_model\u001b[39m.\u001b[39mnet\u001b[39m.\u001b[39msnn[\u001b[39m-\u001b[39m\u001b[39m1\u001b[39m]\u001b[39m.\u001b[39mW\u001b[39m.\u001b[39mweight\u001b[39m.\u001b[39mdata[class_id] \u001b[39m=\u001b[39m \u001b[39m2\u001b[39m\u001b[39m*\u001b[39mprotos[class_id]\n\u001b[1;32m     <a href='vscode-notebook-cell://ssh-remote%2Ba100gpu3/home3/p306982/Simulations/fscil/algorithms_benchmarks/neurobench/examples/mswc_fscil/visualization.ipynb#X56sdnNjb2RlLXJlbW90ZQ%3D%3D?line=10'>11</a>\u001b[0m         eval_model\u001b[39m.\u001b[39mnet\u001b[39m.\u001b[39msnn[\u001b[39m-\u001b[39m\u001b[39m1\u001b[39m]\u001b[39m.\u001b[39mW\u001b[39m.\u001b[39mbias\u001b[39m.\u001b[39mdata[class_id] \u001b[39m=\u001b[39m \u001b[39m-\u001b[39mtorch\u001b[39m.\u001b[39mmatmul(protos[class_id], protos[class_id]\u001b[39m.\u001b[39mt())\u001b[39m/\u001b[39m(features\u001b[39m.\u001b[39mshape[\u001b[39m1\u001b[39m])\n",
      "\u001b[0;31mRuntimeError\u001b[0m: CUDA error: device-side assert triggered\nCUDA kernel errors might be asynchronously reported at some other API call, so the stacktrace below might be incorrect.\nFor debugging consider passing CUDA_LAUNCH_BLOCKING=1.\nCompile with `TORCH_USE_CUDA_DSA` to enable device-side assertions.\n"
     ]
    }
   ],
   "source": [
    "import torch.nn as nn\n",
    "\n",
    "# proto_out = nn.Linear(1024, 200, bias=True).to(device)\n",
    "# proto_out.weight.data = eval_model.net.snn[-1].W.weight.data\n",
    "\n",
    "for index, class_id  in enumerate(query_classes[-10:]):\n",
    "    mean = torch.sum(features[[i*10+index for i in range(EVAL_SHOTS)]], dim=[0,1])/EVAL_SHOTS\n",
    "    eval_model.net.snn[-1].W.weight.data[class_id] = 2*mean\n",
    "    eval_model.net.snn[-1].W.bias.data[class_id] = -torch.matmul(mean, mean.t())/(features.shape[1])"
   ]
  },
  {
   "cell_type": "code",
   "execution_count": 37,
   "metadata": {},
   "outputs": [
    {
     "data": {
      "text/plain": [
       "Parameter containing:\n",
       "tensor([ 4.3638e-03, -2.7057e-02,  1.0268e-02,  1.8048e-02,  9.1156e-03,\n",
       "        -1.1058e-02, -2.7756e-02, -8.1517e-04, -3.7394e-03, -1.8155e-02,\n",
       "        -2.9735e-02, -1.7817e-02,  6.2673e-04,  1.3857e-02, -2.7372e-02,\n",
       "        -2.5133e-02, -1.9607e-02, -2.9135e-02, -1.0613e-02, -2.9045e-02,\n",
       "         3.6959e-03, -1.5498e-02, -1.7690e-02, -1.4257e-02, -7.8650e-03,\n",
       "        -3.1193e-02, -2.2433e-02,  1.8530e-02,  1.3506e-02,  2.8631e-02,\n",
       "         9.9968e-05,  2.5857e-02, -1.7531e-02,  1.1485e-02,  3.0773e-02,\n",
       "        -9.6438e-03, -1.0937e-02,  2.5539e-02, -1.4220e-02,  1.8263e-02,\n",
       "        -2.6293e-02, -3.0124e-03,  2.4544e-02,  7.6261e-03, -5.0354e-03,\n",
       "        -9.5068e-04,  2.2120e-02,  2.7113e-03, -1.8897e-02,  2.4488e-03,\n",
       "         2.2699e-02,  1.4470e-02, -1.5671e-02,  7.0390e-03, -2.4004e-02,\n",
       "         2.8005e-02, -1.1541e-02, -1.8921e-02,  2.0799e-02, -2.4156e-02,\n",
       "         9.3249e-03,  2.4992e-02, -1.2988e-02, -2.4207e-02, -5.0445e-03,\n",
       "         5.7479e-04,  2.7040e-02, -1.0683e-02, -7.9469e-03,  2.4850e-02,\n",
       "        -1.8812e-02,  2.6125e-02,  9.9970e-03,  3.6534e-03,  2.0947e-02,\n",
       "        -2.0460e-02, -2.3182e-02, -2.7253e-03,  7.5106e-03, -6.3583e-03,\n",
       "         2.7946e-02,  1.0575e-02, -2.6042e-02,  2.5069e-02,  2.7567e-02,\n",
       "         5.2013e-03, -2.9420e-02, -1.2529e-02, -1.6112e-02, -1.7461e-02,\n",
       "         2.5541e-02, -1.2733e-02,  1.2323e-02,  3.8443e-03, -2.7764e-02,\n",
       "         3.0104e-02,  3.0317e-02, -1.0154e-02,  1.8592e-02,  5.1938e-03,\n",
       "        -1.9508e-02, -7.1875e-03, -3.5207e-03, -2.6200e-02,  2.5732e-02,\n",
       "         1.5537e-02,  2.2584e-02,  1.1903e-02, -2.4583e-03,  8.3778e-03,\n",
       "         2.8532e-02, -1.9899e-02, -1.4665e-02, -1.2647e-02,  1.7764e-02,\n",
       "        -1.2697e-02,  1.3802e-02,  3.8977e-03, -7.1940e-04,  2.6575e-02,\n",
       "         1.1419e-03,  2.7703e-02,  2.0721e-02,  2.3104e-02, -1.9305e-02,\n",
       "        -2.2361e-02,  1.9743e-03, -3.0274e-02, -1.9400e-02, -7.4586e-03,\n",
       "         2.4783e-03,  4.5170e-03,  2.7244e-02, -3.7729e-03,  2.8769e-02,\n",
       "        -2.5224e-02,  2.2404e-02, -2.4044e-02, -1.1458e-02, -1.3887e-02,\n",
       "        -1.2973e-02, -2.7186e-02, -3.0473e-02,  1.7991e-02, -1.6374e-02,\n",
       "        -1.1179e-02, -6.8510e-03,  8.8891e-03, -2.8903e-02, -2.9179e-02,\n",
       "         1.5707e-02, -1.6253e-02, -1.1913e-02,  3.0786e-02, -2.0582e-02,\n",
       "         2.1663e-02, -1.4337e-02, -1.4411e-02,  1.9483e-02,  2.2615e-03,\n",
       "         1.4266e-02, -1.8127e-02,  2.9994e-02,  1.0254e-02,  2.9464e-02,\n",
       "         3.4392e-04, -2.0835e-02,  1.0859e-02, -2.2653e-02, -2.2123e-02,\n",
       "        -3.0114e-02, -4.6388e-03,  1.0479e-02, -2.2918e-02, -2.4182e-02,\n",
       "         2.0919e-02,  2.0635e-03, -1.0621e-02,  2.0210e-02, -2.6010e-02,\n",
       "         7.4983e-03, -2.2463e-02, -5.7864e-03,  1.7039e-02, -1.6663e-02,\n",
       "        -6.7137e-03,  1.3848e-02,  2.9748e-02,  1.4553e-02,  1.1489e-02,\n",
       "        -2.7652e+03, -2.2619e+03, -2.3803e+03, -3.5409e+03, -2.2996e+03,\n",
       "        -2.9114e+03, -2.0654e+03, -1.7440e+03, -3.0980e+03, -3.7119e+03],\n",
       "       requires_grad=True)"
      ]
     },
     "execution_count": 37,
     "metadata": {},
     "output_type": "execute_result"
    }
   ],
   "source": [
    "eval_model.net.snn[-1].W.bias"
   ]
  },
  {
   "cell_type": "code",
   "execution_count": 69,
   "metadata": {},
   "outputs": [],
   "source": [
    "### Few Shot Learning phase ###\n",
    "eval_model.net.train()\n",
    "#eval_model.lat_features.eval()\n",
    "if SPIKING:\n",
    "    eval_model.net.snn[:-1].eval()\n",
    "    freeze_below(eval_model.net, \"none\", only_conv=False)\n",
    "    eval_model.net.snn[-1].W.weight.requires_grad = True\n",
    "else:\n",
    "    freeze_below(eval_model.net, \"output\", only_conv=False)\n",
    "    eval_below(eval_model.net, \"output\")\n",
    "\n",
    "if RESET==\"zero\":\n",
    "    reset_weights(eval_model.net, eval_model.net.snn[-1].W, cur_class)\n",
    "elif RESET==\"random\":\n",
    "    if SPIKING:\n",
    "        torch.nn.init.xavier_normal_(eval_model.net.snn[-1].W.weight)\n",
    "\n",
    "# Set prior centered weights again after eventual resetting of all weights\n",
    "set_consolidate_weights(eval_model.net, eval_model.net.snn[-1].W) \n",
    "\n",
    "cur_class = support[0][1].tolist()"
   ]
  },
  {
   "cell_type": "code",
   "execution_count": 70,
   "metadata": {},
   "outputs": [],
   "source": [
    "cur_class = support[0][1].tolist()\n",
    "eval_model.net.cur_j = examples_per_class(cur_class, 200, 5)\n",
    "\n",
    "\n",
    "for n in range(EVAL_EPOCHS):\n",
    "\n",
    "    # data = None\n",
    "    # for X_shot, y_shot in support:\n",
    "    #     if data is None:\n",
    "    #         data = X_shot\n",
    "    #         target = y_shot\n",
    "    #     else:\n",
    "    #         data = torch.cat((data,X_shot), 0)\n",
    "    #         target = torch.cat((target,y_shot), 0)\n",
    "\n",
    "# Update weigts over successive shots\n",
    "    for X_shot, y_shot in support:\n",
    "        few_shot_optimizer.zero_grad()\n",
    "\n",
    "        data, target = encode((X_shot.to(device), y_shot.to(device)))\n",
    "        data = data.squeeze()\n",
    "\n",
    "        output = eval_model(data)\n",
    "        \n",
    "        if SAMPLED_STEPS:\n",
    "            sampled_indexes = range(SAMPLED_STEPS, output.shape[1], SAMPLED_STEPS)\n",
    "            loss = 0.0\n",
    "            for t in sampled_indexes:\n",
    "                loss += F.cross_entropy(output[:, t], target)\n",
    "            loss = loss/len(sampled_indexes)\n",
    "        else:\n",
    "            loss = F.cross_entropy(output.squeeze(), target)\n",
    "        loss.backward()\n",
    "        few_shot_optimizer.step()\n",
    "\n",
    "    if SPIKING:\n",
    "        consolidate_weights(eval_model.net, eval_model.net.snn[-1].W, cur_class, normalize=NORMALIZE)\n",
    "        set_consolidate_weights(eval_model.net, eval_model.net.snn[-1].W)\n",
    "    else:\n",
    "        consolidate_weights(eval_model.net, eval_model.net.output, cur_class)\n",
    "        set_consolidate_weights(eval_model.net, eval_model.net.output)"
   ]
  },
  {
   "cell_type": "markdown",
   "metadata": {},
   "source": [
    "## SNN Weights"
   ]
  },
  {
   "cell_type": "code",
   "execution_count": 16,
   "metadata": {},
   "outputs": [],
   "source": [
    "PROTOTYPES = True\n",
    "cur_class = support[0][1].tolist()"
   ]
  },
  {
   "cell_type": "code",
   "execution_count": 25,
   "metadata": {},
   "outputs": [
    {
     "data": {
      "text/plain": [
       "(10, 1024)"
      ]
     },
     "execution_count": 25,
     "metadata": {},
     "output_type": "execute_result"
    }
   ],
   "source": [
    "matrix2 = np.stack([proto.detach().cpu().numpy() for proto in protos.values()], axis=0)\n",
    "matrix2.shape"
   ]
  },
  {
   "cell_type": "code",
   "execution_count": 11,
   "metadata": {},
   "outputs": [
    {
     "name": "stdout",
     "output_type": "stream",
     "text": [
      "BASE CLASSES:\n",
      "Range: (0.0, 34.988003)\n",
      "Mean: 1.2679935\n",
      "Std: 2.7561233\n",
      "1st SESSION CLASSES:\n"
     ]
    },
    {
     "ename": "NameError",
     "evalue": "name 'matrix2' is not defined",
     "output_type": "error",
     "traceback": [
      "\u001b[0;31m---------------------------------------------------------------------------\u001b[0m",
      "\u001b[0;31mNameError\u001b[0m                                 Traceback (most recent call last)",
      "\u001b[1;32m/home3/p306982/Simulations/fscil/algorithms_benchmarks/neurobench/examples/mswc_fscil/visualization.ipynb Cell 34\u001b[0m line \u001b[0;36m4\n\u001b[1;32m     <a href='vscode-notebook-cell://ssh-remote%2Ba100gpu3/home3/p306982/Simulations/fscil/algorithms_benchmarks/neurobench/examples/mswc_fscil/visualization.ipynb#X31sdnNjb2RlLXJlbW90ZQ%3D%3D?line=42'>43</a>\u001b[0m \u001b[39m# Plot the second heatmap\u001b[39;00m\n\u001b[1;32m     <a href='vscode-notebook-cell://ssh-remote%2Ba100gpu3/home3/p306982/Simulations/fscil/algorithms_benchmarks/neurobench/examples/mswc_fscil/visualization.ipynb#X31sdnNjb2RlLXJlbW90ZQ%3D%3D?line=43'>44</a>\u001b[0m plt\u001b[39m.\u001b[39msubplot(\u001b[39m1\u001b[39m, \u001b[39m2\u001b[39m, \u001b[39m2\u001b[39m)\n\u001b[0;32m---> <a href='vscode-notebook-cell://ssh-remote%2Ba100gpu3/home3/p306982/Simulations/fscil/algorithms_benchmarks/neurobench/examples/mswc_fscil/visualization.ipynb#X31sdnNjb2RlLXJlbW90ZQ%3D%3D?line=44'>45</a>\u001b[0m plot_heatmap(matrix2, \u001b[39m'\u001b[39m\u001b[39m1st session classes weights\u001b[39m\u001b[39m'\u001b[39m)\n\u001b[1;32m     <a href='vscode-notebook-cell://ssh-remote%2Ba100gpu3/home3/p306982/Simulations/fscil/algorithms_benchmarks/neurobench/examples/mswc_fscil/visualization.ipynb#X31sdnNjb2RlLXJlbW90ZQ%3D%3D?line=46'>47</a>\u001b[0m \u001b[39m# Adjust layout for better visualization\u001b[39;00m\n\u001b[1;32m     <a href='vscode-notebook-cell://ssh-remote%2Ba100gpu3/home3/p306982/Simulations/fscil/algorithms_benchmarks/neurobench/examples/mswc_fscil/visualization.ipynb#X31sdnNjb2RlLXJlbW90ZQ%3D%3D?line=47'>48</a>\u001b[0m plt\u001b[39m.\u001b[39mtight_layout()\n",
      "\u001b[0;31mNameError\u001b[0m: name 'matrix2' is not defined"
     ]
    },
    {
     "data": {
      "image/png": "[encoded data removed]",
      "text/plain": [
       "<Figure size 640x480 with 3 Axes>"
      ]
     },
     "metadata": {},
     "output_type": "display_data"
    }
   ],
   "source": [
    "import numpy as np\n",
    "import matplotlib.pyplot as plt\n",
    "\n",
    "sample_hidden = np.random.randint(0, 256, 100)\n",
    "sample_out = np.random.randint(0, 100, 50)\n",
    "\n",
    "def plot_heatmap(matrix, title):\n",
    "    plt.imshow(matrix, cmap='viridis', interpolation='nearest')\n",
    "    plt.title(title)\n",
    "    plt.colorbar()\n",
    "\n",
    "\n",
    "# Assuming you have two weight matrices, matrix1 and matrix2\n",
    "# Replace these with your actual matrices\n",
    "weight_matrix = eval_model.net.snn[-1].W.weight.detach().cpu().numpy()\n",
    "\n",
    "print(\"BASE CLASSES:\")\n",
    "print(\"Range:\", (np.min(weight_matrix[:100]), np.max(weight_matrix[:100])))\n",
    "print(\"Mean:\", np.mean(weight_matrix[:100]))\n",
    "print(\"Std:\", np.std(weight_matrix[:100]))\n",
    "print(\"1st SESSION CLASSES:\")\n",
    "\n",
    "\n",
    "# Use np.ix_ to create an open mesh of indices\n",
    "matrix1 = weight_matrix[np.ix_(sample_out, sample_hidden)].transpose()\n",
    "# Replace cur_class with the appropriate value\n",
    "# if PROTOTYPES:\n",
    "#     matrix2 = np.stack([proto.detach().cpu().numpy() for proto in protos.values()], axis=0)[:,sample_hidden].transpose()\n",
    "#     print(\"Range:\", (np.min(matrix2), np.max(matrix2)))\n",
    "#     print(\"Mean:\", np.mean(matrix2))\n",
    "#     print(\"Std:\", np.std(matrix2))\n",
    "# else:\n",
    "# matrix2 = weight_matrix[np.ix_(cur_class, sample_hidden)].transpose()\n",
    "# print(\"Range:\", (np.min(weight_matrix[cur_class]), np.max(weight_matrix[cur_class])))\n",
    "# print(\"Mean:\", np.mean(weight_matrix[cur_class]))\n",
    "# print(\"Std:\", np.std(weight_matrix[cur_class]))\n",
    "\n",
    "\n",
    "# Plot the first heatmap\n",
    "plt.subplot(1, 2, 1)\n",
    "plot_heatmap(matrix1, 'Sampled base classes weights')\n",
    "\n",
    "# Plot the second heatmap\n",
    "plt.subplot(1, 2, 2)\n",
    "plot_heatmap(matrix2, '1st session classes weights')\n",
    "\n",
    "# Adjust layout for better visualization\n",
    "plt.tight_layout()\n",
    "\n",
    "# Show the plots\n",
    "plt.show()"
   ]
  },
  {
   "cell_type": "code",
   "execution_count": 72,
   "metadata": {},
   "outputs": [
    {
     "name": "stderr",
     "output_type": "stream",
     "text": [
      "No artists with labels found to put in legend.  Note that artists whose label start with an underscore are ignored when legend() is called with no argument.\n",
      "No artists with labels found to put in legend.  Note that artists whose label start with an underscore are ignored when legend() is called with no argument.\n"
     ]
    },
    {
     "data": {
      "image/png": "[encoded data removed]",
      "text/plain": [
       "<Figure size 640x480 with 2 Axes>"
      ]
     },
     "metadata": {},
     "output_type": "display_data"
    }
   ],
   "source": [
    "weight_matrix = eval_model.net.snn[-1].W.weight.detach().cpu().numpy()\n",
    "\n",
    "# Use np.ix_ to create an open mesh of indices\n",
    "matrix1 = weight_matrix[:100,].transpose()\n",
    "# Replace cur_class with the appropriate value\n",
    "matrix2 = weight_matrix[cur_class].transpose()\n",
    "\n",
    "\n",
    "\n",
    "# Plot the first heatmap\n",
    "plt.subplot(1, 2, 1)\n",
    "plt.hist(matrix1.flatten(), bins=20, color='blue', alpha=0.7, log=True, rwidth=0.8)\n",
    "plt.title('Base classes weight histograms')\n",
    "plt.xlabel('Weight Values')\n",
    "plt.ylabel('Frequency')\n",
    "plt.legend()\n",
    "\n",
    "# Plot the second heatmap\n",
    "plt.subplot(1, 2, 2)\n",
    "plt.hist(matrix2.flatten(), bins=20, color='orange', alpha=0.7, log=True, rwidth=0.8)\n",
    "plt.title('New classes weight histograms')\n",
    "\n",
    "# \n",
    "plt.xlabel('Weight Values')\n",
    "# plt.ylabel('Frequency')\n",
    "plt.legend()\n",
    "\n",
    "# Adjust layout for better visualization\n",
    "plt.tight_layout()\n",
    "\n",
    "# Show the plots\n",
    "plt.show()\n"
   ]
  },
  {
   "cell_type": "code",
   "execution_count": 18,
   "metadata": {},
   "outputs": [
    {
     "name": "stdout",
     "output_type": "stream",
     "text": [
      "Running benchmark\n"
     ]
    },
    {
     "name": "stderr",
     "output_type": "stream",
     "text": [
      "  0%|          | 0/43 [00:00<?, ?it/s]"
     ]
    },
    {
     "name": "stderr",
     "output_type": "stream",
     "text": [
      "100%|██████████| 43/43 [00:12<00:00,  3.39it/s]\n"
     ]
    },
    {
     "name": "stdout",
     "output_type": "stream",
     "text": [
      "Session accuracy: 82.16363635930149 %\n",
      "Running benchmark\n"
     ]
    },
    {
     "name": "stderr",
     "output_type": "stream",
     "text": [
      "100%|██████████| 4/4 [00:02<00:00,  1.58it/s]"
     ]
    },
    {
     "name": "stdout",
     "output_type": "stream",
     "text": [
      "Accuracy on new classes: 61.000000286102306 %\n"
     ]
    },
    {
     "name": "stderr",
     "output_type": "stream",
     "text": [
      "\n"
     ]
    }
   ],
   "source": [
    "benchmark = Benchmark(eval_model, metric_list=[[],[\"classification_accuracy\"]], dataloader=test_loader,\n",
    "                                preprocessors=[to_device, encode, squeeze], postprocessors=[])\n",
    "\n",
    "### Testing phase ###\n",
    "eval_model.net.eval()\n",
    "\n",
    "# Define session dataloaders for query and query + base_test samples\n",
    "query_loader = DataLoader(query, batch_size=BATCH_SIZE, num_workers=NUM_WORKERS)\n",
    "\n",
    "full_session_test_set = ConcatDataset([base_test_set, query])\n",
    "full_session_test_loader = DataLoader(full_session_test_set, batch_size=BATCH_SIZE, num_workers=NUM_WORKERS)\n",
    "\n",
    "# Create a mask function to only consider accuracy on classes presented so far\n",
    "session_classes = torch.cat((torch.arange(0,100, dtype=int), torch.IntTensor(query_classes))) \n",
    "mask = torch.full((200,), float('inf')).to(device)\n",
    "mask[session_classes] = 0\n",
    "out_mask = lambda x: x - mask\n",
    "\n",
    "if SAMPLED_STEPS:\n",
    "    sum_out = lambda x: torch.sum(x, dim=1)\n",
    "    out_mask = lambda x: sum_out(x) - mask\n",
    "\n",
    "# Run benchmark to evaluate accuracy of this specific session\n",
    "session_results = benchmark.run(dataloader = full_session_test_loader, postprocessors=[out_mask, out2pred, torch.squeeze])\n",
    "print(f\"Session accuracy: {session_results['classification_accuracy']*100} %\")\n",
    "\n",
    "\n",
    "if PROTOTYPES:\n",
    "    query_results = benchmark.run(dataloader = query_loader, postprocessors=[out_mask, F.softmax , out2pred, torch.squeeze])\n",
    "    print(f\"Accuracy on new classes: {query_results['classification_accuracy']*100} %\")  \n",
    "else:\n",
    "    # Run benchmark on query classes only\n",
    "    query_results = benchmark.run(dataloader = query_loader, postprocessors=[out_mask, out2pred, torch.squeeze])\n",
    "    print(f\"Accuracy on new classes: {query_results['classification_accuracy']*100} %\")"
   ]
  },
  {
   "cell_type": "code",
   "execution_count": null,
   "metadata": {},
   "outputs": [],
   "source": [
    "NEW_NORM = 0.01\n",
    "with torch.no_grad():\n",
    "    output = eval_model.net.snn[-1].W.weight.detach()\n",
    "    \n",
    "\n",
    "    globalnorm = np.std(output.cpu().numpy()[cur_class])\n",
    "\n",
    "    output = output * NEW_NORM/globalnorm\n",
    "\n",
    "    eval_model.net.snn[-1].W.weight.data[cur_class] = output[cur_class]\n",
    "    consolidate_weights(eval_model.net, eval_model.net.snn[-1].W, cur_class)"
   ]
  },
  {
   "cell_type": "code",
   "execution_count": null,
   "metadata": {},
   "outputs": [
    {
     "data": {
      "text/plain": [
       "torch.Size([1, 1, 48000])"
      ]
     },
     "execution_count": 64,
     "metadata": {},
     "output_type": "execute_result"
    }
   ],
   "source": [
    "base_test_set[i][0].to(device).reshape(1,1,-1).size()"
   ]
  },
  {
   "cell_type": "code",
   "execution_count": null,
   "metadata": {},
   "outputs": [],
   "source": [
    "i = 2560\n",
    "\n",
    "data, target = encode((base_test_set[i][0].to(device).reshape(1,1,-1), base_test_set[i][1]))\n",
    "data = data.reshape(1,201,-1)\n",
    "output = eval_model(data)\n",
    "summed_batches = torch.sum(output,0).detach().cpu().numpy()"
   ]
  },
  {
   "cell_type": "code",
   "execution_count": 82,
   "metadata": {},
   "outputs": [
    {
     "data": {
      "image/png": "[encoded data removed]",
      "text/plain": [
       "<Figure size 640x480 with 1 Axes>"
      ]
     },
     "metadata": {},
     "output_type": "display_data"
    }
   ],
   "source": [
    "plt.plot(summed_batches)\n",
    "plt.show()"
   ]
  },
  {
   "cell_type": "code",
   "execution_count": 46,
   "metadata": {},
   "outputs": [
    {
     "ename": "OutOfMemoryError",
     "evalue": "CUDA out of memory. Tried to allocate 80.00 MiB (GPU 0; 19.50 GiB total capacity; 18.63 GiB already allocated; 65.88 MiB free; 19.17 GiB reserved in total by PyTorch) If reserved memory is >> allocated memory try setting max_split_size_mb to avoid fragmentation.  See documentation for Memory Management and PYTORCH_CUDA_ALLOC_CONF",
     "output_type": "error",
     "traceback": [
      "\u001b[0;31m---------------------------------------------------------------------------\u001b[0m",
      "\u001b[0;31mOutOfMemoryError\u001b[0m                          Traceback (most recent call last)",
      "\u001b[1;32m/home3/p306982/Simulations/fscil/algorithms_benchmarks/neurobench/examples/mswc_fscil/visualization.ipynb Cell 25\u001b[0m line \u001b[0;36m9\n\u001b[1;32m      <a href='vscode-notebook-cell://ssh-remote%2Ba100gpu3/home3/p306982/Simulations/fscil/algorithms_benchmarks/neurobench/examples/mswc_fscil/visualization.ipynb#X40sdnNjb2RlLXJlbW90ZQ%3D%3D?line=5'>6</a>\u001b[0m data, target \u001b[39m=\u001b[39m encode((X\u001b[39m.\u001b[39mto(device), \u001b[39mint\u001b[39m(y[\u001b[39m0\u001b[39m])))\n\u001b[1;32m      <a href='vscode-notebook-cell://ssh-remote%2Ba100gpu3/home3/p306982/Simulations/fscil/algorithms_benchmarks/neurobench/examples/mswc_fscil/visualization.ipynb#X40sdnNjb2RlLXJlbW90ZQ%3D%3D?line=6'>7</a>\u001b[0m data \u001b[39m=\u001b[39m data\u001b[39m.\u001b[39msqueeze()\n\u001b[0;32m----> <a href='vscode-notebook-cell://ssh-remote%2Ba100gpu3/home3/p306982/Simulations/fscil/algorithms_benchmarks/neurobench/examples/mswc_fscil/visualization.ipynb#X40sdnNjb2RlLXJlbW90ZQ%3D%3D?line=8'>9</a>\u001b[0m output \u001b[39m=\u001b[39m eval_model(data)\n\u001b[1;32m     <a href='vscode-notebook-cell://ssh-remote%2Ba100gpu3/home3/p306982/Simulations/fscil/algorithms_benchmarks/neurobench/examples/mswc_fscil/visualization.ipynb#X40sdnNjb2RlLXJlbW90ZQ%3D%3D?line=9'>10</a>\u001b[0m summed_batches \u001b[39m=\u001b[39m torch\u001b[39m.\u001b[39msum(output,\u001b[39m0\u001b[39m)\n\u001b[1;32m     <a href='vscode-notebook-cell://ssh-remote%2Ba100gpu3/home3/p306982/Simulations/fscil/algorithms_benchmarks/neurobench/examples/mswc_fscil/visualization.ipynb#X40sdnNjb2RlLXJlbW90ZQ%3D%3D?line=11'>12</a>\u001b[0m act_dict[target] \u001b[39m=\u001b[39m summed_batches\u001b[39m.\u001b[39mdetach()\u001b[39m.\u001b[39mcpu()\u001b[39m.\u001b[39mnumpy()\u001b[39m.\u001b[39mcopy()\n",
      "File \u001b[0;32m~/Simulations/fscil/algorithms_benchmarks/neurobench/models/torch_model.py:28\u001b[0m, in \u001b[0;36mTorchModel.__call__\u001b[0;34m(self, batch)\u001b[0m\n\u001b[1;32m     18\u001b[0m \u001b[39mdef\u001b[39;00m \u001b[39m__call__\u001b[39m(\u001b[39mself\u001b[39m, batch):\n\u001b[1;32m     19\u001b[0m \u001b[39m    \u001b[39m\u001b[39m\"\"\" Wraps forward pass of torch.nn model.\u001b[39;00m\n\u001b[1;32m     20\u001b[0m \n\u001b[1;32m     21\u001b[0m \u001b[39m    Args:\u001b[39;00m\n\u001b[0;32m   (...)\u001b[0m\n\u001b[1;32m     26\u001b[0m \u001b[39m            NeuroBenchAccumulators.\u001b[39;00m\n\u001b[1;32m     27\u001b[0m \u001b[39m    \"\"\"\u001b[39;00m\n\u001b[0;32m---> 28\u001b[0m     \u001b[39mreturn\u001b[39;00m \u001b[39mself\u001b[39;49m\u001b[39m.\u001b[39;49mnet(batch)\n",
      "File \u001b[0;32m~/.conda/envs/pytorch_cuda/lib/python3.9/site-packages/torch/nn/modules/module.py:1501\u001b[0m, in \u001b[0;36mModule._call_impl\u001b[0;34m(self, *args, **kwargs)\u001b[0m\n\u001b[1;32m   1496\u001b[0m \u001b[39m# If we don't have any hooks, we want to skip the rest of the logic in\u001b[39;00m\n\u001b[1;32m   1497\u001b[0m \u001b[39m# this function, and just call forward.\u001b[39;00m\n\u001b[1;32m   1498\u001b[0m \u001b[39mif\u001b[39;00m \u001b[39mnot\u001b[39;00m (\u001b[39mself\u001b[39m\u001b[39m.\u001b[39m_backward_hooks \u001b[39mor\u001b[39;00m \u001b[39mself\u001b[39m\u001b[39m.\u001b[39m_backward_pre_hooks \u001b[39mor\u001b[39;00m \u001b[39mself\u001b[39m\u001b[39m.\u001b[39m_forward_hooks \u001b[39mor\u001b[39;00m \u001b[39mself\u001b[39m\u001b[39m.\u001b[39m_forward_pre_hooks\n\u001b[1;32m   1499\u001b[0m         \u001b[39mor\u001b[39;00m _global_backward_pre_hooks \u001b[39mor\u001b[39;00m _global_backward_hooks\n\u001b[1;32m   1500\u001b[0m         \u001b[39mor\u001b[39;00m _global_forward_hooks \u001b[39mor\u001b[39;00m _global_forward_pre_hooks):\n\u001b[0;32m-> 1501\u001b[0m     \u001b[39mreturn\u001b[39;00m forward_call(\u001b[39m*\u001b[39;49margs, \u001b[39m*\u001b[39;49m\u001b[39m*\u001b[39;49mkwargs)\n\u001b[1;32m   1502\u001b[0m \u001b[39m# Do not call functions when jit is used\u001b[39;00m\n\u001b[1;32m   1503\u001b[0m full_backward_hooks, non_full_backward_hooks \u001b[39m=\u001b[39m [], []\n",
      "File \u001b[0;32m~/Simulations/fscil/algorithms_benchmarks/neurobench/examples/model_data/sparchSNNs.py:169\u001b[0m, in \u001b[0;36mSNN.forward\u001b[0;34m(self, x)\u001b[0m\n\u001b[1;32m    167\u001b[0m all_spikes \u001b[39m=\u001b[39m []\n\u001b[1;32m    168\u001b[0m \u001b[39mfor\u001b[39;00m i, snn_lay \u001b[39min\u001b[39;00m \u001b[39menumerate\u001b[39m(\u001b[39mself\u001b[39m\u001b[39m.\u001b[39msnn):\n\u001b[0;32m--> 169\u001b[0m     x \u001b[39m=\u001b[39m snn_lay(x)\n\u001b[1;32m    170\u001b[0m     \u001b[39mif\u001b[39;00m \u001b[39mnot\u001b[39;00m (\u001b[39mself\u001b[39m\u001b[39m.\u001b[39muse_readout_layer \u001b[39mand\u001b[39;00m i \u001b[39m==\u001b[39m \u001b[39mself\u001b[39m\u001b[39m.\u001b[39mnum_layers \u001b[39m-\u001b[39m \u001b[39m1\u001b[39m):\n\u001b[1;32m    171\u001b[0m         all_spikes\u001b[39m.\u001b[39mappend(x)\n",
      "File \u001b[0;32m~/.conda/envs/pytorch_cuda/lib/python3.9/site-packages/torch/nn/modules/module.py:1538\u001b[0m, in \u001b[0;36mModule._call_impl\u001b[0;34m(self, *args, **kwargs)\u001b[0m\n\u001b[1;32m   1535\u001b[0m     bw_hook \u001b[39m=\u001b[39m hooks\u001b[39m.\u001b[39mBackwardHook(\u001b[39mself\u001b[39m, full_backward_hooks, backward_pre_hooks)\n\u001b[1;32m   1536\u001b[0m     args \u001b[39m=\u001b[39m bw_hook\u001b[39m.\u001b[39msetup_input_hook(args)\n\u001b[0;32m-> 1538\u001b[0m result \u001b[39m=\u001b[39m forward_call(\u001b[39m*\u001b[39;49margs, \u001b[39m*\u001b[39;49m\u001b[39m*\u001b[39;49mkwargs)\n\u001b[1;32m   1539\u001b[0m \u001b[39mif\u001b[39;00m _global_forward_hooks \u001b[39mor\u001b[39;00m \u001b[39mself\u001b[39m\u001b[39m.\u001b[39m_forward_hooks:\n\u001b[1;32m   1540\u001b[0m     \u001b[39mfor\u001b[39;00m hook_id, hook \u001b[39min\u001b[39;00m (\n\u001b[1;32m   1541\u001b[0m         \u001b[39m*\u001b[39m_global_forward_hooks\u001b[39m.\u001b[39mitems(),\n\u001b[1;32m   1542\u001b[0m         \u001b[39m*\u001b[39m\u001b[39mself\u001b[39m\u001b[39m.\u001b[39m_forward_hooks\u001b[39m.\u001b[39mitems(),\n\u001b[1;32m   1543\u001b[0m     ):\n",
      "File \u001b[0;32m~/Simulations/fscil/algorithms_benchmarks/neurobench/examples/model_data/sparchSNNs.py:679\u001b[0m, in \u001b[0;36mRadLIFLayer.forward\u001b[0;34m(self, x)\u001b[0m\n\u001b[1;32m    677\u001b[0m \u001b[39m# Apply normalization\u001b[39;00m\n\u001b[1;32m    678\u001b[0m \u001b[39mif\u001b[39;00m \u001b[39mself\u001b[39m\u001b[39m.\u001b[39mnormalize:\n\u001b[0;32m--> 679\u001b[0m     _Wx \u001b[39m=\u001b[39m \u001b[39mself\u001b[39;49m\u001b[39m.\u001b[39;49mnorm(Wx\u001b[39m.\u001b[39;49mreshape(Wx\u001b[39m.\u001b[39;49mshape[\u001b[39m0\u001b[39;49m] \u001b[39m*\u001b[39;49m Wx\u001b[39m.\u001b[39;49mshape[\u001b[39m1\u001b[39;49m], Wx\u001b[39m.\u001b[39;49mshape[\u001b[39m2\u001b[39;49m]))\n\u001b[1;32m    680\u001b[0m     Wx \u001b[39m=\u001b[39m _Wx\u001b[39m.\u001b[39mreshape(Wx\u001b[39m.\u001b[39mshape[\u001b[39m0\u001b[39m], Wx\u001b[39m.\u001b[39mshape[\u001b[39m1\u001b[39m], Wx\u001b[39m.\u001b[39mshape[\u001b[39m2\u001b[39m])\n\u001b[1;32m    682\u001b[0m \u001b[39m# Compute spikes via neuron dynamics\u001b[39;00m\n",
      "File \u001b[0;32m~/.conda/envs/pytorch_cuda/lib/python3.9/site-packages/torch/nn/modules/module.py:1501\u001b[0m, in \u001b[0;36mModule._call_impl\u001b[0;34m(self, *args, **kwargs)\u001b[0m\n\u001b[1;32m   1496\u001b[0m \u001b[39m# If we don't have any hooks, we want to skip the rest of the logic in\u001b[39;00m\n\u001b[1;32m   1497\u001b[0m \u001b[39m# this function, and just call forward.\u001b[39;00m\n\u001b[1;32m   1498\u001b[0m \u001b[39mif\u001b[39;00m \u001b[39mnot\u001b[39;00m (\u001b[39mself\u001b[39m\u001b[39m.\u001b[39m_backward_hooks \u001b[39mor\u001b[39;00m \u001b[39mself\u001b[39m\u001b[39m.\u001b[39m_backward_pre_hooks \u001b[39mor\u001b[39;00m \u001b[39mself\u001b[39m\u001b[39m.\u001b[39m_forward_hooks \u001b[39mor\u001b[39;00m \u001b[39mself\u001b[39m\u001b[39m.\u001b[39m_forward_pre_hooks\n\u001b[1;32m   1499\u001b[0m         \u001b[39mor\u001b[39;00m _global_backward_pre_hooks \u001b[39mor\u001b[39;00m _global_backward_hooks\n\u001b[1;32m   1500\u001b[0m         \u001b[39mor\u001b[39;00m _global_forward_hooks \u001b[39mor\u001b[39;00m _global_forward_pre_hooks):\n\u001b[0;32m-> 1501\u001b[0m     \u001b[39mreturn\u001b[39;00m forward_call(\u001b[39m*\u001b[39;49margs, \u001b[39m*\u001b[39;49m\u001b[39m*\u001b[39;49mkwargs)\n\u001b[1;32m   1502\u001b[0m \u001b[39m# Do not call functions when jit is used\u001b[39;00m\n\u001b[1;32m   1503\u001b[0m full_backward_hooks, non_full_backward_hooks \u001b[39m=\u001b[39m [], []\n",
      "File \u001b[0;32m~/.conda/envs/pytorch_cuda/lib/python3.9/site-packages/torch/nn/modules/batchnorm.py:171\u001b[0m, in \u001b[0;36m_BatchNorm.forward\u001b[0;34m(self, input)\u001b[0m\n\u001b[1;32m    164\u001b[0m     bn_training \u001b[39m=\u001b[39m (\u001b[39mself\u001b[39m\u001b[39m.\u001b[39mrunning_mean \u001b[39mis\u001b[39;00m \u001b[39mNone\u001b[39;00m) \u001b[39mand\u001b[39;00m (\u001b[39mself\u001b[39m\u001b[39m.\u001b[39mrunning_var \u001b[39mis\u001b[39;00m \u001b[39mNone\u001b[39;00m)\n\u001b[1;32m    166\u001b[0m \u001b[39m\u001b[39m\u001b[39mr\u001b[39m\u001b[39m\"\"\"\u001b[39;00m\n\u001b[1;32m    167\u001b[0m \u001b[39mBuffers are only updated if they are to be tracked and we are in training mode. Thus they only need to be\u001b[39;00m\n\u001b[1;32m    168\u001b[0m \u001b[39mpassed when the update should occur (i.e. in training mode when they are tracked), or when buffer stats are\u001b[39;00m\n\u001b[1;32m    169\u001b[0m \u001b[39mused for normalization (i.e. in eval mode when buffers are not None).\u001b[39;00m\n\u001b[1;32m    170\u001b[0m \u001b[39m\"\"\"\u001b[39;00m\n\u001b[0;32m--> 171\u001b[0m \u001b[39mreturn\u001b[39;00m F\u001b[39m.\u001b[39;49mbatch_norm(\n\u001b[1;32m    172\u001b[0m     \u001b[39minput\u001b[39;49m,\n\u001b[1;32m    173\u001b[0m     \u001b[39m# If buffers are not to be tracked, ensure that they won't be updated\u001b[39;49;00m\n\u001b[1;32m    174\u001b[0m     \u001b[39mself\u001b[39;49m\u001b[39m.\u001b[39;49mrunning_mean\n\u001b[1;32m    175\u001b[0m     \u001b[39mif\u001b[39;49;00m \u001b[39mnot\u001b[39;49;00m \u001b[39mself\u001b[39;49m\u001b[39m.\u001b[39;49mtraining \u001b[39mor\u001b[39;49;00m \u001b[39mself\u001b[39;49m\u001b[39m.\u001b[39;49mtrack_running_stats\n\u001b[1;32m    176\u001b[0m     \u001b[39melse\u001b[39;49;00m \u001b[39mNone\u001b[39;49;00m,\n\u001b[1;32m    177\u001b[0m     \u001b[39mself\u001b[39;49m\u001b[39m.\u001b[39;49mrunning_var \u001b[39mif\u001b[39;49;00m \u001b[39mnot\u001b[39;49;00m \u001b[39mself\u001b[39;49m\u001b[39m.\u001b[39;49mtraining \u001b[39mor\u001b[39;49;00m \u001b[39mself\u001b[39;49m\u001b[39m.\u001b[39;49mtrack_running_stats \u001b[39melse\u001b[39;49;00m \u001b[39mNone\u001b[39;49;00m,\n\u001b[1;32m    178\u001b[0m     \u001b[39mself\u001b[39;49m\u001b[39m.\u001b[39;49mweight,\n\u001b[1;32m    179\u001b[0m     \u001b[39mself\u001b[39;49m\u001b[39m.\u001b[39;49mbias,\n\u001b[1;32m    180\u001b[0m     bn_training,\n\u001b[1;32m    181\u001b[0m     exponential_average_factor,\n\u001b[1;32m    182\u001b[0m     \u001b[39mself\u001b[39;49m\u001b[39m.\u001b[39;49meps,\n\u001b[1;32m    183\u001b[0m )\n",
      "File \u001b[0;32m~/.conda/envs/pytorch_cuda/lib/python3.9/site-packages/torch/nn/functional.py:2450\u001b[0m, in \u001b[0;36mbatch_norm\u001b[0;34m(input, running_mean, running_var, weight, bias, training, momentum, eps)\u001b[0m\n\u001b[1;32m   2447\u001b[0m \u001b[39mif\u001b[39;00m training:\n\u001b[1;32m   2448\u001b[0m     _verify_batch_size(\u001b[39minput\u001b[39m\u001b[39m.\u001b[39msize())\n\u001b[0;32m-> 2450\u001b[0m \u001b[39mreturn\u001b[39;00m torch\u001b[39m.\u001b[39;49mbatch_norm(\n\u001b[1;32m   2451\u001b[0m     \u001b[39minput\u001b[39;49m, weight, bias, running_mean, running_var, training, momentum, eps, torch\u001b[39m.\u001b[39;49mbackends\u001b[39m.\u001b[39;49mcudnn\u001b[39m.\u001b[39;49menabled\n\u001b[1;32m   2452\u001b[0m )\n",
      "\u001b[0;31mOutOfMemoryError\u001b[0m: CUDA out of memory. Tried to allocate 80.00 MiB (GPU 0; 19.50 GiB total capacity; 18.63 GiB already allocated; 65.88 MiB free; 19.17 GiB reserved in total by PyTorch) If reserved memory is >> allocated memory try setting max_split_size_mb to avoid fragmentation.  See documentation for Memory Management and PYTORCH_CUDA_ALLOC_CONF"
     ]
    }
   ],
   "source": [
    "full_session_test_loader = DataLoader(full_session_test_set, batch_size=100, num_workers=NUM_WORKERS)\n",
    "act_dict = {}\n",
    "\n",
    "with torch.no_grad():\n",
    "    for X, y in full_session_test_loader:\n",
    "        data, target = encode((X.to(device), int(y[0])))\n",
    "        data = data.squeeze()\n",
    "\n",
    "        output = eval_model(data)\n",
    "        summed_batches = torch.sum(output,0)\n",
    "\n",
    "        act_dict[target] = summed_batches.detach().cpu().numpy().copy()\n",
    "        del output\n",
    "        del summed_batches"
   ]
  },
  {
   "cell_type": "code",
   "execution_count": 47,
   "metadata": {},
   "outputs": [],
   "source": [
    "del act_dict"
   ]
  },
  {
   "cell_type": "markdown",
   "metadata": {},
   "source": [
    "## ANN Weights "
   ]
  },
  {
   "cell_type": "code",
   "execution_count": null,
   "metadata": {},
   "outputs": [
    {
     "ename": "AttributeError",
     "evalue": "'SNN' object has no attribute 'output'",
     "output_type": "error",
     "traceback": [
      "\u001b[0;31m---------------------------------------------------------------------------\u001b[0m",
      "\u001b[0;31mAttributeError\u001b[0m                            Traceback (most recent call last)",
      "\u001b[1;32m/home3/p306982/Simulations/fscil/algorithms_benchmarks/neurobench/examples/mswc_fscil/visualization.ipynb Cell 23\u001b[0m line \u001b[0;36m1\n\u001b[1;32m     <a href='vscode-notebook-cell://ssh-remote%2Ba100gpu1/home3/p306982/Simulations/fscil/algorithms_benchmarks/neurobench/examples/mswc_fscil/visualization.ipynb#X26sdnNjb2RlLXJlbW90ZQ%3D%3D?line=9'>10</a>\u001b[0m     plt\u001b[39m.\u001b[39mcolorbar()\n\u001b[1;32m     <a href='vscode-notebook-cell://ssh-remote%2Ba100gpu1/home3/p306982/Simulations/fscil/algorithms_benchmarks/neurobench/examples/mswc_fscil/visualization.ipynb#X26sdnNjb2RlLXJlbW90ZQ%3D%3D?line=12'>13</a>\u001b[0m \u001b[39m# Assuming you have two weight matrices, matrix1 and matrix2\u001b[39;00m\n\u001b[1;32m     <a href='vscode-notebook-cell://ssh-remote%2Ba100gpu1/home3/p306982/Simulations/fscil/algorithms_benchmarks/neurobench/examples/mswc_fscil/visualization.ipynb#X26sdnNjb2RlLXJlbW90ZQ%3D%3D?line=13'>14</a>\u001b[0m \u001b[39m# Replace these with your actual matrices\u001b[39;00m\n\u001b[0;32m---> <a href='vscode-notebook-cell://ssh-remote%2Ba100gpu1/home3/p306982/Simulations/fscil/algorithms_benchmarks/neurobench/examples/mswc_fscil/visualization.ipynb#X26sdnNjb2RlLXJlbW90ZQ%3D%3D?line=14'>15</a>\u001b[0m weight_matrix \u001b[39m=\u001b[39m eval_model\u001b[39m.\u001b[39;49mnet\u001b[39m.\u001b[39;49moutput\u001b[39m.\u001b[39mweight\u001b[39m.\u001b[39mdetach()\u001b[39m.\u001b[39mcpu()\u001b[39m.\u001b[39mnumpy()\n\u001b[1;32m     <a href='vscode-notebook-cell://ssh-remote%2Ba100gpu1/home3/p306982/Simulations/fscil/algorithms_benchmarks/neurobench/examples/mswc_fscil/visualization.ipynb#X26sdnNjb2RlLXJlbW90ZQ%3D%3D?line=16'>17</a>\u001b[0m \u001b[39m# Use np.ix_ to create an open mesh of indices\u001b[39;00m\n\u001b[1;32m     <a href='vscode-notebook-cell://ssh-remote%2Ba100gpu1/home3/p306982/Simulations/fscil/algorithms_benchmarks/neurobench/examples/mswc_fscil/visualization.ipynb#X26sdnNjb2RlLXJlbW90ZQ%3D%3D?line=17'>18</a>\u001b[0m matrix1 \u001b[39m=\u001b[39m weight_matrix[np\u001b[39m.\u001b[39mix_(sample_out, sample_hidden)]\u001b[39m.\u001b[39mtranspose()\n",
      "File \u001b[0;32m~/.conda/envs/pytorch_cuda/lib/python3.9/site-packages/torch/nn/modules/module.py:1614\u001b[0m, in \u001b[0;36mModule.__getattr__\u001b[0;34m(self, name)\u001b[0m\n\u001b[1;32m   1612\u001b[0m     \u001b[39mif\u001b[39;00m name \u001b[39min\u001b[39;00m modules:\n\u001b[1;32m   1613\u001b[0m         \u001b[39mreturn\u001b[39;00m modules[name]\n\u001b[0;32m-> 1614\u001b[0m \u001b[39mraise\u001b[39;00m \u001b[39mAttributeError\u001b[39;00m(\u001b[39m\"\u001b[39m\u001b[39m'\u001b[39m\u001b[39m{}\u001b[39;00m\u001b[39m'\u001b[39m\u001b[39m object has no attribute \u001b[39m\u001b[39m'\u001b[39m\u001b[39m{}\u001b[39;00m\u001b[39m'\u001b[39m\u001b[39m\"\u001b[39m\u001b[39m.\u001b[39mformat(\n\u001b[1;32m   1615\u001b[0m     \u001b[39mtype\u001b[39m(\u001b[39mself\u001b[39m)\u001b[39m.\u001b[39m\u001b[39m__name__\u001b[39m, name))\n",
      "\u001b[0;31mAttributeError\u001b[0m: 'SNN' object has no attribute 'output'"
     ]
    }
   ],
   "source": [
    "import numpy as np\n",
    "import matplotlib.pyplot as plt\n",
    "\n",
    "sample_hidden = np.random.randint(0, 513, 50)\n",
    "sample_out = np.random.randint(0, 101, 30)\n",
    "\n",
    "def plot_heatmap(matrix, title):\n",
    "    plt.imshow(matrix, cmap='viridis', interpolation='nearest')\n",
    "    plt.title(title)\n",
    "    plt.colorbar()\n",
    "\n",
    "\n",
    "# Assuming you have two weight matrices, matrix1 and matrix2\n",
    "# Replace these with your actual matrices\n",
    "weight_matrix = eval_model.net.output.weight.detach().cpu().numpy()\n",
    "\n",
    "# Use np.ix_ to create an open mesh of indices\n",
    "matrix1 = weight_matrix[np.ix_(sample_out, sample_hidden)].transpose()\n",
    "# Replace cur_class with the appropriate value\n",
    "matrix2 = weight_matrix[np.ix_(cur_class, sample_hidden)].transpose()\n",
    "\n",
    "\n",
    "# Plot the first heatmap\n",
    "plt.subplot(1, 2, 1)\n",
    "plot_heatmap(matrix1, 'Sampled base classes weights')\n",
    "\n",
    "# Plot the second heatmap\n",
    "plt.subplot(1, 2, 2)\n",
    "plot_heatmap(matrix2, '1st session classes weights')\n",
    "\n",
    "# Adjust layout for better visualization\n",
    "plt.tight_layout()\n",
    "\n",
    "# Show the plots\n",
    "plt.show()"
   ]
  },
  {
   "cell_type": "code",
   "execution_count": null,
   "metadata": {},
   "outputs": [],
   "source": []
  },
  {
   "cell_type": "code",
   "execution_count": null,
   "metadata": {},
   "outputs": [],
   "source": []
  }
 ],
 "metadata": {
  "kernelspec": {
   "display_name": "Python 3",
   "language": "python",
   "name": "python3"
  },
  "language_info": {
   "codemirror_mode": {
    "name": "ipython",
    "version": 3
   },
   "file_extension": ".py",
   "mimetype": "text/x-python",
   "name": "python",
   "nbconvert_exporter": "python",
   "pygments_lexer": "ipython3",
   "version": "3.9.16"
  }
 },
 "nbformat": 4,
 "nbformat_minor": 2
}
