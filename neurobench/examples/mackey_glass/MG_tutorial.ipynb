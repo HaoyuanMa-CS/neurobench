{
 "cells": [
  {
   "cell_type": "markdown",
   "metadata": {
    "id": "yGm4fad3M-Sr"
   },
   "source": [
    "# Mackey Glass Benchmark Tutorial\n",
    "\n",
    "This tutorial aims to provide an insight on how the NeuroBench framework is organized and how you can use it to benchmark your own models!\n",
    "\n",
    "## About Mackey Glass:\n",
    "The Mackey Glass task is a chaotic function prediction task. Contrary to the other tasks in NeuroBench, the Mackey Glass dataset is synthetic. Real-world data can be high-dimensional and require large networks to achieve high accuracy, presenting challenges for solution types with limited I/O support and network capacity, such as mixed-signal prototype solutions. \n",
    "### Dataset:\n",
    "The Mackey Glass dataset is a one-dimensional non-linear time delay differential equation, where the evolution of the signal can be altered by a number of different parameters. \n",
    "<!-- $$ dx \\over dt = \\beta {x(t-\\tau)} \\over {1 + x(t-\\tau)^n} - \\gamma x(t)\n",
    "$$ -->\n",
    "$$ \\frac{dx}{dt} = \\frac{\\beta x(t-\\tau)}{1 + x(t-\\tau)^n} - \\gamma x(t) $$\n",
    "\n",
    "For the NeuroBench task, fourteen time series are generated from the Mackey Glass function, available at this link: https://huggingface.co/datasets/NeuroBench/mackey_glass. The time series vary by the $\\tau$ parameter from 17 to 30.\n",
    "\n",
    "### Benchmark Task:\n",
    "The task is a sequence-to-sequence prediction problem, similar to the non-human primate motor prediction task, which is also included in NeuroBench. The task involves predicting the next timestep value $f(t+\\Delta t)$, from the current value $f(t)$. Models are trained on the first half of the time series, during which the ground truth state $f(t)$ is provided to the model to make its prediction $f'(t+\\Delta t)$. During evaluation on the second half of the sequence, the model uses its prior prediction $f'(t)$ in order to generate each next value $f'(t+\\Delta t)$, autoregressively generating the second half of the time series.\n",
    "\n",
    "Symmetric mean absolute percentage error, sMAPE, is used to evaluate the correctness of the model's prediction. The length of the time series is dependent on Lyapunov time, which is listed with the dataset. \n",
    "\n",
    "The task presented in this tutorial uses multiple instances of each Mackey Glass configuration, each with length or 20 Lyapunov times. Each successive instance shifts the start point of the time series forwards by half of a Lyapunov time. The metrics are averaged over all instances."
   ]
  },
  {
   "cell_type": "markdown",
   "metadata": {},
   "source": [
    "First we will import the relevant libraries. These include the dataset, model wrapper, and benchmark object."
   ]
  },
  {
   "cell_type": "code",
   "execution_count": null,
   "metadata": {
    "id": "lqtM6XbMM_hO"
   },
   "outputs": [],
   "source": [
    "import torch\n",
    "\n",
    "from torch.utils.data import Subset, DataLoader\n",
    "\n",
    "import pandas as pd\n",
    "\n",
    "from neurobench.datasets import MackeyGlass\n",
    "from neurobench.models import TorchModel\n",
    "from neurobench.benchmarks import Benchmark\n"
   ]
  },
  {
   "cell_type": "markdown",
   "metadata": {
    "id": "R7HMjVPX7LZh"
   },
   "source": [
    "For this tutorial, we will make use an Echo State Network (ESN) model architecture."
   ]
  },
  {
   "cell_type": "code",
   "execution_count": null,
   "metadata": {
    "id": "r0yYDNRZ7UxY"
   },
   "outputs": [],
   "source": [
    "# this is the network we will be using in this tutorial\n",
    "from neurobench.examples.mackey_glass.echo_state_network import EchoStateNetwork"
   ]
  },
  {
   "cell_type": "markdown",
   "metadata": {
    "id": "GTB808RoNXqL"
   },
   "source": [
    "Next, we load the hyperparameters of the ESN that were found using a random grid search."
   ]
  },
  {
   "cell_type": "code",
   "execution_count": null,
   "metadata": {
    "id": "x4jOfnt6OeIH"
   },
   "outputs": [],
   "source": [
    "esn_parameters = pd.read_csv(\"echo_state_network_hyperparameters.csv\")"
   ]
  },
  {
   "cell_type": "markdown",
   "metadata": {
    "id": "UfRfdvXvOqRP"
   },
   "source": [
    "No pre- or post-processors are used in this task."
   ]
  },
  {
   "cell_type": "code",
   "execution_count": null,
   "metadata": {
    "id": "3GHY8vTROwzP"
   },
   "outputs": [],
   "source": [
    "preprocessors = []\n",
    "postprocessors = []"
   ]
  },
  {
   "cell_type": "markdown",
   "metadata": {
    "id": "o9doNsI0O0Jl"
   },
   "source": [
    "The Mackey Glass task contains 14 series with varying complexity. Every series is ran a number of times. Here we only repeat 3 times, but the dataset length allows up to 60 repeats with successive forward shifts."
   ]
  },
  {
   "cell_type": "code",
   "execution_count": null,
   "metadata": {
    "id": "sDUczVTkPOsQ"
   },
   "outputs": [],
   "source": [
    "# benchmark run over 14 different series\n",
    "sMAPE_scores = []\n",
    "synop_macs = []\n",
    "synop_dense = []\n",
    "\n",
    "# Number of simulations to run for each time series\n",
    "repeat = 3"
   ]
  },
  {
   "cell_type": "markdown",
   "metadata": {
    "id": "KXQYfiJpPTZb"
   },
   "source": [
    "We shift the time series by 0.5 of its Lyapunov times for each independent run:"
   ]
  },
  {
   "cell_type": "code",
   "execution_count": null,
   "metadata": {
    "id": "U0_N96ADPeO5"
   },
   "outputs": [],
   "source": [
    "# Shift time series by 0.5 of its Lyapunov times for each independent run \n",
    "start_offset_range = torch.arange(0., 0.5*repeat, 0.5) "
   ]
  },
  {
   "cell_type": "markdown",
   "metadata": {},
   "source": [
    "Next specify the metrics to calculate. For this task, sMAPE is used to evaluate correctness."
   ]
  },
  {
   "cell_type": "code",
   "execution_count": null,
   "metadata": {},
   "outputs": [],
   "source": [
    "static_metrics = [\"footprint\", \"connection_sparsity\"]\n",
    "workload_metrics = [\"sMAPE\", \"activation_sparsity\",\"synaptic_operations\"]"
   ]
  },
  {
   "cell_type": "markdown",
   "metadata": {
    "id": "6ytLJ-dUPp0b"
   },
   "source": [
    "With everything set up, we are ready to start the benchmark. We repeat the evaluation of 14 time series, 3 times each.\n",
    "For each benchmark run, the ESN is fit on the training data and evaluated on the test data."
   ]
  },
  {
   "cell_type": "code",
   "execution_count": null,
   "metadata": {
    "id": "Ldww7kiYPsU2"
   },
   "outputs": [],
   "source": [
    "for tau in range(17, 31):\n",
    "    for repeat_id in range(repeat):\n",
    "        tau = mg_parameters.tau[series_id]\n",
    "\n",
    "        # Load data using the parameters loaded from the csv file\n",
    "        mg = MackeyGlass(tau = tau, \n",
    "                         start_offset=start_offset_range[repeat_id].item(),\n",
    "                         bin_window=1)\n",
    "\n",
    "        # Split test and train set\n",
    "        train_set = Subset(mg, mg.ind_train)\n",
    "        test_set = Subset(mg, mg.ind_test)\n",
    "        \n",
    "        # Index of the hyperparamters for the current time-series\n",
    "        ind_tau = esn_parameters.index[esn_parameters['tau'] == tau].tolist()[0]\n",
    "    \n",
    "        ## Fitting Model ##\n",
    "        seed_id = repeat_id\n",
    "\n",
    "        # Load the model with the parameters loaded from esn_parameters\n",
    "        esn = EchoStateNetwork(in_channels=1, \n",
    "            reservoir_size = esn_parameters['reservoir_size'][ind_tau], \n",
    "            input_scale = torch.tensor([esn_parameters['scale_bias'][ind_tau], esn_parameters['scale_input'][ind_tau],],dtype = torch.float64), \n",
    "            connect_prob = esn_parameters['connect_prob'][ind_tau], \n",
    "            spectral_radius = esn_parameters['spectral_radius'][ind_tau],\n",
    "            leakage = esn_parameters['leakage'][ind_tau], \n",
    "            ridge_param = esn_parameters['ridge_param'][ind_tau],\n",
    "            seed_id = seed_id )\n",
    "\n",
    "        esn.train()\n",
    "        train_data, train_labels = train_set[:] # outputs (batch, bin_window, 1)\n",
    "        warmup = 0.6 # in Lyapunov times\n",
    "        warmup_pts = round(warmup*mg.pts_per_lyaptime)\n",
    "        train_labels = train_labels[warmup_pts:]\n",
    "        esn.fit(train_data, train_labels, warmup_pts)\n",
    "\n",
    "        test_set_loader = DataLoader(test_set, batch_size=mg.testtime_pts, shuffle=False)\n",
    "\n",
    "        # Wrap the model\n",
    "        model = TorchModel(net)\n",
    "    \n",
    "        benchmark = Benchmark(model, test_set_loader, [], [], [static_metrics, workload_metrics]) \n",
    "        results = benchmark.run()\n",
    "        print(results)\n",
    "        sMAPE_scores.append(results[\"sMAPE\"])\n",
    "        synop_macs.append(results[\"synaptic_operations\"][\"Effective_MACs\"])\n",
    "        synop_dense.append(results[\"synaptic_operations\"][\"Dense\"])\n",
    "\n",
    "print(\"Average sMAPE score accross all repeats and time series: \", sum(sMAPE_scores)/len(sMAPE_scores))\n",
    "print(\"Average synop MACs accross all repeats and time series: \", sum(synop_macs)/len(synop_macs))\n",
    "print(\"Average synop dense accross all repeats and time series: \", sum(synop_dense)/len(synop_dense))"
   ]
  },
  {
   "cell_type": "markdown",
   "metadata": {},
   "source": [
    "Expected results:\n",
    "\n",
    "Average sMAPE score accross all repeats and time series:  37.66279721082488\n",
    "\n",
    "Average synop MACs accross all repeats and time series:  291720.81996825396\n",
    "\n",
    "Average synop dense accross all repeats and time series:  565148.5714285715\n",
    "\n",
    "Note that due to the ESN fit functionality being dependent on lower-level arithmetic libraries, your results may be different on a different machine."
   ]
  }
 ],
 "metadata": {
  "colab": {
   "provenance": []
  },
  "kernelspec": {
   "display_name": "Python 3 (ipykernel)",
   "language": "python",
   "name": "python3"
  },
  "language_info": {
   "codemirror_mode": {
    "name": "ipython",
    "version": 3
   },
   "file_extension": ".py",
   "mimetype": "text/x-python",
   "name": "python",
   "nbconvert_exporter": "python",
   "pygments_lexer": "ipython3",
   "version": "3.10.6"
  }
 },
 "nbformat": 4,
 "nbformat_minor": 4
}
